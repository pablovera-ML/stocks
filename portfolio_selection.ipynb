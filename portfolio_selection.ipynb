{
 "cells": [
  {
   "cell_type": "code",
   "execution_count": 1,
   "id": "b4d7ddfe",
   "metadata": {},
   "outputs": [
    {
     "name": "stderr",
     "output_type": "stream",
     "text": [
      "INFO:root:Changing logging level\n"
     ]
    }
   ],
   "source": [
    "import utils\n",
    "import pandas as pd\n"
   ]
  },
  {
   "cell_type": "code",
   "execution_count": 2,
   "id": "c7576fa8",
   "metadata": {},
   "outputs": [],
   "source": [
    "engine = utils.get_engine()"
   ]
  },
  {
   "cell_type": "code",
   "execution_count": 26,
   "id": "db0bc485",
   "metadata": {},
   "outputs": [],
   "source": [
    "def query (symb) :\n",
    "    return f\"\"\"\n",
    "            create table analytics.{symb}_monthly as (\n",
    "with numbered_rows as (\n",
    "select s.date,\n",
    "       date_trunc('month', s.date) as month,\n",
    "       row_number() over (partition by to_char(s.date, 'yyyy'), date_trunc('month', s.date) order by s.date)=1 as is_first_row,\n",
    "       row_number() over (partition by to_char(s.date, 'yyyy'), date_trunc('month', s.date) order by s.date desc)=1 as is_last_row,\n",
    "       s.volume as stock_volume,\n",
    "       s.open as stock_open,\n",
    "       s.high as stock_high,\n",
    "       s.low as stock_low,\n",
    "       s.close as stock_close\n",
    "from stocks.{symb}_1d s\n",
    "where date>='2000-01-01'\n",
    ")\n",
    "    select month,\n",
    "           sum(stock_volume) as volume,\n",
    "           max(case when is_first_row then stock_open else -1 end) as open,\n",
    "           max(case when is_last_row then stock_close else -1 end) as close,\n",
    "           100.0*(max(case when is_last_row then stock_close else -1 end)/max(case when is_first_row then stock_open else -1 end) - 1) as return,\n",
    "           min(stock_low) as low,\n",
    "           max(stock_high) as high,\n",
    "           max(stock_volume) max_volume,\n",
    "           min(stock_volume) min_volume\n",
    "    from numbered_rows\n",
    "    group by 1)\n",
    "            \"\"\""
   ]
  },
  {
   "cell_type": "code",
   "execution_count": 30,
   "id": "293a70bc",
   "metadata": {},
   "outputs": [],
   "source": [
    "symbols = ['spy', 'qqq', 'dia', 'eem', 'efa', 'ewj',\n",
    "           'fxi', 'vti', 'xle', 'xlf', 'xlk', 'psj', 'itot', \n",
    "           'btcusd', 'ethusd', 'xmrusd', 'socl', 'haus', \n",
    "           'arkk', 'arkw', 'arkf', 'arkq', 'meli',\n",
    "           'awk', 'pho', 'pio', 'cgw', 'awr']"
   ]
  },
  {
   "cell_type": "code",
   "execution_count": 31,
   "id": "a73d86b8",
   "metadata": {},
   "outputs": [
    {
     "data": {
      "text/plain": [
       "28"
      ]
     },
     "execution_count": 31,
     "metadata": {},
     "output_type": "execute_result"
    }
   ],
   "source": [
    "len(symbols)"
   ]
  },
  {
   "cell_type": "code",
   "execution_count": 32,
   "id": "dd628de3",
   "metadata": {},
   "outputs": [
    {
     "name": "stdout",
     "output_type": "stream",
     "text": [
      "Error with symbol spy\n",
      "Error with symbol spy\n",
      "Error with symbol qqq\n",
      "Error with symbol qqq\n",
      "Error with symbol dia\n",
      "Error with symbol dia\n",
      "Monthly market data created for symbol eem.\n",
      "Error with symbol eem\n",
      "Monthly market data created for symbol efa.\n",
      "Error with symbol efa\n",
      "Monthly market data created for symbol ewj.\n",
      "Error with symbol ewj\n",
      "Error with symbol fxi\n",
      "Error with symbol fxi\n",
      "Error with symbol vti\n",
      "Error with symbol vti\n",
      "Error with symbol xle\n",
      "Error with symbol xle\n",
      "Error with symbol xlf\n",
      "Error with symbol xlf\n",
      "Error with symbol xlk\n",
      "Error with symbol xlk\n",
      "Error with symbol psj\n",
      "Error with symbol psj\n",
      "Error with symbol itot\n",
      "Error with symbol itot\n",
      "Error with symbol btcusd\n",
      "Error with symbol btcusd\n",
      "Error with symbol ethusd\n",
      "Error with symbol ethusd\n",
      "Error with symbol xmrusd\n",
      "Error with symbol xmrusd\n",
      "Error with symbol socl\n",
      "Error with symbol socl\n",
      "Error with symbol haus\n",
      "Error with symbol haus\n",
      "Error with symbol arkk\n",
      "Error with symbol arkk\n",
      "Error with symbol arkw\n",
      "Error with symbol arkw\n",
      "Error with symbol arkf\n",
      "Error with symbol arkf\n",
      "Error with symbol arkq\n",
      "Error with symbol arkq\n",
      "Error with symbol meli\n",
      "Error with symbol meli\n",
      "Error with symbol awk\n",
      "Error with symbol awk\n",
      "Error with symbol pho\n",
      "Error with symbol pho\n",
      "Error with symbol pio\n",
      "Error with symbol pio\n",
      "Error with symbol cgw\n",
      "Error with symbol cgw\n",
      "Error with symbol awr\n",
      "Error with symbol awr\n"
     ]
    }
   ],
   "source": [
    "with engine.connect() as connection:\n",
    "    for s in symbols:\n",
    "        try:\n",
    "            connection.execute(query(s))\n",
    "            print(f\"Monthly market data created for symbol {s}.\")\n",
    "        except:\n",
    "            print(f\"Error with symbol {s}\")\n",
    "        finally:\n",
    "            print(f\"Error with symbol {s}\")\n",
    "    connection.close()"
   ]
  },
  {
   "cell_type": "code",
   "execution_count": 25,
   "id": "a3b05853",
   "metadata": {},
   "outputs": [],
   "source": [
    "selected_constituents = ['spy', 'qqq', 'dia', 'eem', 'ewk', 'fxi', 'vti', 'xle'\n",
    "                         'xlf', 'xlk', 'itot', 'socl', 'meli', 'arkk', 'arkw',\n",
    "                         'arkq', 'awk', 'pho', 'pio', 'cgw', 'awr']"
   ]
  },
  {
   "cell_type": "code",
   "execution_count": null,
   "id": "bea2d3d3",
   "metadata": {},
   "outputs": [],
   "source": [
    "with engine.connect() as connection:\n",
    "    for s in symbols:\n",
    "        try:\n",
    "            connection.execute(query(s))\n",
    "            print(f\"Monthly market data created for symbol {s}.\")\n",
    "        except:\n",
    "            ...\n",
    "        finally:\n",
    "            ...\n",
    "    connection.close()"
   ]
  }
 ],
 "metadata": {
  "kernelspec": {
   "display_name": "Python [conda env:timeseries] *",
   "language": "python",
   "name": "conda-env-timeseries-py"
  },
  "language_info": {
   "codemirror_mode": {
    "name": "ipython",
    "version": 3
   },
   "file_extension": ".py",
   "mimetype": "text/x-python",
   "name": "python",
   "nbconvert_exporter": "python",
   "pygments_lexer": "ipython3",
   "version": "3.8.13"
  }
 },
 "nbformat": 4,
 "nbformat_minor": 5
}
