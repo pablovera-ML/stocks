{
 "cells": [
  {
   "cell_type": "code",
   "execution_count": null,
   "id": "4ccc40be",
   "metadata": {},
   "outputs": [],
   "source": [
    "import utils\n",
    "import pandas as pd\n",
    "import numpy as np\n",
    "import seaborn as sns\n",
    "from scipy.stats import norm"
   ]
  },
  {
   "cell_type": "code",
   "execution_count": null,
   "id": "8b90bfc5",
   "metadata": {},
   "outputs": [],
   "source": [
    "import matplotlib.pyplot as plt"
   ]
  },
  {
   "cell_type": "code",
   "execution_count": null,
   "id": "7e7c9789",
   "metadata": {},
   "outputs": [],
   "source": [
    "sns.set(rc = {'figure.figsize':(42,30)}, font_scale = 2)"
   ]
  },
  {
   "cell_type": "code",
   "execution_count": null,
   "id": "d131761a",
   "metadata": {},
   "outputs": [],
   "source": [
    "engine = utils.get_engine()"
   ]
  },
  {
   "cell_type": "code",
   "execution_count": null,
   "id": "9a07a40c",
   "metadata": {},
   "outputs": [],
   "source": [
    "def query (symb) :\n",
    "    return f\"\"\"\n",
    "            drop table if exists analytics.{symb}_monthly;\n",
    "            create table analytics.{symb}_monthly as (\n",
    "with numbered_rows as (\n",
    "select s.date,\n",
    "       date_trunc('month', s.date) as month,\n",
    "       row_number() over (partition by to_char(s.date, 'yyyy'), date_trunc('month', s.date) order by s.date)=1 as is_first_row,\n",
    "       row_number() over (partition by to_char(s.date, 'yyyy'), date_trunc('month', s.date) order by s.date desc)=1 as is_last_row,\n",
    "       s.volume as stock_volume,\n",
    "       s.open as stock_open,\n",
    "       s.high as stock_high,\n",
    "       s.low as stock_low,\n",
    "       s.close as stock_close\n",
    "from stocks.{symb}_1d s\n",
    "where date>='2000-01-01'\n",
    ")\n",
    "    select month,\n",
    "           sum(stock_volume) as volume,\n",
    "           max(case when is_first_row then stock_open else -1 end) as open,\n",
    "           max(case when is_last_row then stock_close else -1 end) as close,\n",
    "           (max(case when is_last_row then stock_close else -1 end)/max(case when is_first_row then stock_open else -1 end) - 1) as return,\n",
    "           min(stock_low) as low,\n",
    "           max(stock_high) as high,\n",
    "           max(stock_volume) max_volume,\n",
    "           min(stock_volume) min_volume\n",
    "    from numbered_rows\n",
    "    group by 1)\n",
    "            \"\"\"\n",
    "\n",
    "def return_query(symbols_list):\n",
    "    query_select = \"\"\"select  spy.month,\"\"\"\n",
    "    query_join = \"\"\"from analytics.spy_monthly spy \"\"\"\n",
    "    \n",
    "    for symbol in symbols_list[:-1]:\n",
    "        query_select+=f\"\\n {symbol}.close/lag({symbol}.close,1)over(order by spy.month) - 1 as {symbol}_return,\"\n",
    "        query_join+=f\"\"\"\\n inner join analytics.{symbol}_monthly as  {symbol} on {symbol}.month::date=spy.month::date\"\"\"\n",
    "    \n",
    "    query_select+=f\"\\n {symbols_list[-1]}.close/lag({symbols_list[-1]}.close,1)over(order by spy.month) - 1 as {symbols_list[-1]}_return\"\n",
    "    query_join+=f\"\"\"\\n inner join analytics.{symbols_list[-1]}_monthly as  {symbols_list[-1]} on {symbols_list[-1]}.month::date=spy.month::date\"\"\"\n",
    "    query_join+=\"\"\"\\n order by 1;\"\"\"\n",
    "    \n",
    "    return query_select+\"\\n\"+query_join\n",
    "\n"
   ]
  },
  {
   "cell_type": "code",
   "execution_count": null,
   "id": "c551d845",
   "metadata": {},
   "outputs": [],
   "source": [
    "def rolling_sharpe_ratio(returns, risk_free_return, periods):\n",
    "    # As risk free return comes in annual yields, we should convert it to monthly return.\n",
    "    risk_free_return = risk_free_return.apply(lambda x: ((x+1)**(1/12))-1)\n",
    "    if len(returns.shape) == 1:\n",
    "        excess_return=returns-risk_free_return\n",
    "    else:\n",
    "        excess_return = returns.apply(lambda x: x-risk_free_return)\n",
    "    sr = excess_return.rolling(periods,min_periods=6).mean()/excess_return.rolling(periods,min_periods=6).std()\n",
    "    return sr\n",
    "\n",
    "def calculate_sharpe_ratio(returns, risk_free_return):\n",
    "    # As risk free return comes in annual yields, we should convert it to monthly return.\n",
    "    risk_free_return = risk_free_return.apply(lambda x: ((x+1)**(1/12))-1)\n",
    "    excess_return = returns.apply(lambda x: x-risk_free_return)\n",
    "    return excess_return.mean(axis=0)/excess_return.std(ddof=1,axis=0)"
   ]
  },
  {
   "cell_type": "code",
   "execution_count": null,
   "id": "a2fce5e0",
   "metadata": {},
   "outputs": [],
   "source": [
    "def rolling_sortino_ratio(returns, risk_free_return, periods):\n",
    "    # As risk free return comes in annual yields, we should convert it to monthly return.\n",
    "    risk_free_return = risk_free_return.apply(lambda x: ((x+1)**(1/12))-1)\n",
    "    if len(returns.shape) == 1:\n",
    "        excess_return=returns-risk_free_return\n",
    "    else:\n",
    "        excess_return = returns.apply(lambda x: x-risk_free_return)\n",
    "    sortino = excess_return.rolling(periods,min_periods=6).mean()/excess_return.where(excess_return<0, 0.01).rolling(periods,min_perdiods=6).std()\n",
    "    return sortino\n",
    "\n",
    "def calculate_sortino_ratio(returns, risk_free_return):\n",
    "    # As risk free return comes in annual yields, we should convert it to monthly return.\n",
    "    risk_free_return = risk_free_return.apply(lambda x: ((x+1)**(1/12))-1)\n",
    "    if len(returns.shape) == 1:\n",
    "        excess_return=returns-risk_free_return\n",
    "    else:\n",
    "        excess_return = returns.apply(lambda x: x-risk_free_return)\n",
    "    return excess_return.mean(axis=0)/excess_return.where(excess_return<0, 0.01).std(axis=0)"
   ]
  },
  {
   "cell_type": "code",
   "execution_count": null,
   "id": "84e21078",
   "metadata": {},
   "outputs": [],
   "source": [
    "def rolling_calmar_ratio(returns, risk_free_return, periods=36):\n",
    "    #annualized_returns = returns.apply(lambda x: np.log(x+1)).rolling(periods).mean().apply(lambda x: (np.exp(x)**12.0)-1)\n",
    "    risk_free_return = risk_free_return.apply(lambda x: ((x+1)**(1/12))-1)\n",
    "    if len(returns.shape) == 1:\n",
    "        excess_return=returns-risk_free_return\n",
    "    else:\n",
    "        excess_return = returns.apply(lambda x: x-risk_free_return)\n",
    "    \n",
    "    calmar = excess_return.rolling(periods,min_periods=6).mean()/excess_return.where(excess_return<0, 0.01).rolling(periods,min_periods=6).min().abs()\n",
    "    return calmar\n",
    "\n",
    "def calculate_calmar_ratio(returns, risk_free_return, periods=36):\n",
    "    #annualized_returns = returns.apply(lambda x: np.log(x+1)).rolling(periods).mean().apply(lambda x: (np.exp(x)**12.0)-1)\n",
    "    risk_free_return = risk_free_return.apply(lambda x: ((x+1)**(1/12))-1)\n",
    "    if len(returns.shape) == 1:\n",
    "        excess_return=returns-risk_free_return\n",
    "    else:\n",
    "        excess_return = returns.apply(lambda x: x-risk_free_return)\n",
    "        \n",
    "    return excess_return.tail(periods).mean(axis=0)/excess_return.tail(periods).where(excess_return<0, 0.01).min(axis=0).abs()\n",
    "\n"
   ]
  },
  {
   "cell_type": "code",
   "execution_count": null,
   "id": "611e18ef",
   "metadata": {},
   "outputs": [],
   "source": [
    "def draw_hist_and_dist(data):\n",
    "    sns.set(rc = {'figure.figsize':(42,30)}, font_scale = 2)\n",
    "    mu, std = norm.fit(data) \n",
    "    plt.hist(data, bins='auto', density=True, alpha=0.6, color='b')\n",
    "    xmin, xmax = plt.xlim()\n",
    "    x = np.linspace(xmin, xmax, 1000)\n",
    "    p = norm.pdf(x, mu, std)\n",
    "    plt.plot(x, p, 'k', linewidth=3)\n",
    "    title = \"Mean={:.2f} / Std={:.2f}\".format(mu, std)\n",
    "    plt.title(title)\n",
    "    plt.show()"
   ]
  },
  {
   "cell_type": "code",
   "execution_count": null,
   "id": "8387fccb",
   "metadata": {},
   "outputs": [],
   "source": [
    "symbols = ['spy', 'qqq', 'dia', 'eem', 'efa', 'ewj',\n",
    "           'ivw', 'vti', 'xle', 'xlf', 'xlk', 'psj', 'itot', \n",
    "           'btcusd', 'ethusd', 'xmrusd', 'socl', 'haus', \n",
    "           'arkk', 'arkw', 'arkf', 'arkq',\n",
    "           'awk', 'pho', 'pio', 'cgw',\n",
    "           'aapl','msft','goog','amzn','tsla','nvda','meta','xom', 'dow',\n",
    "           'unh','jnj','wmt','cvx','hd','abbv','ko','baba','pfe','mcd',\n",
    "           'abt','vz','amd','sbux','ibm','spgi','intc','blk','amat',\n",
    "           'adp','pypl','meli','pnc','cl','sq','ndaq','awk','spot','xyl','awr',\n",
    "           'treasury_yield_13_weeks',\n",
    "           'treasury_yield_5_years', 'treasury_yield_10_years']"
   ]
  },
  {
   "cell_type": "code",
   "execution_count": null,
   "id": "7cff0118",
   "metadata": {
    "scrolled": true
   },
   "outputs": [],
   "source": [
    "with engine.connect() as connection:\n",
    "    for s in symbols:\n",
    "        try:\n",
    "            connection.execute(query(s))\n",
    "            print(f\"Monthly market data created for symbol {s}.\")\n",
    "        except:\n",
    "            print(f\"Error with symbol {s}\")\n",
    "    connection.close()"
   ]
  },
  {
   "cell_type": "code",
   "execution_count": null,
   "id": "873c945c",
   "metadata": {},
   "outputs": [],
   "source": [
    "selected_constituents = list(set(['qqq', 'dia', 'eem', 'efa', 'ewj', 'vti', \n",
    "                                 'xle', 'xlf', 'xlk', 'psj', 'itot', 'awk', 'pho', 'pio', 'cgw',\n",
    "                               'aapl','msft','goog','amzn','tsla','nvda','meta','xom',\n",
    "                               'unh','jnj','wmt','cvx','hd','abbv','ko','baba','pfe','mcd',\n",
    "                               'abt','vz','amd','sbux','ibm','spgi','intc','blk','amat',\n",
    "                               'adp','pypl','meli','pnc','cl','sq','ndaq','awk','xyl','awr', 'treasury_yield_13_weeks']))"
   ]
  },
  {
   "cell_type": "code",
   "execution_count": null,
   "id": "c0dc5ab7",
   "metadata": {},
   "outputs": [],
   "source": [
    "with engine.connect() as connection:\n",
    "    query = return_query(selected_constituents)\n",
    "    df_return = pd.read_sql(query, con=connection).set_index('month').dropna()\n",
    "    connection.close()"
   ]
  },
  {
   "cell_type": "code",
   "execution_count": null,
   "id": "941fa7c3",
   "metadata": {},
   "outputs": [],
   "source": [
    "annualization_factor = 12**0.5"
   ]
  },
  {
   "cell_type": "code",
   "execution_count": null,
   "id": "85ac0b03",
   "metadata": {},
   "outputs": [],
   "source": [
    "df_return.info()"
   ]
  },
  {
   "cell_type": "code",
   "execution_count": null,
   "id": "46c73943",
   "metadata": {},
   "outputs": [],
   "source": [
    "selected_equities = list(set(df_return.columns.tolist())-set(['treasury_yield_13_weeks_return']))\n"
   ]
  },
  {
   "cell_type": "code",
   "execution_count": null,
   "id": "0747f812",
   "metadata": {},
   "outputs": [],
   "source": [
    "excess_return.rolling(periods).min().abs()"
   ]
  }
 ],
 "metadata": {
  "kernelspec": {
   "display_name": "Python [conda env:timeseries] *",
   "language": "python",
   "name": "conda-env-timeseries-py"
  },
  "language_info": {
   "codemirror_mode": {
    "name": "ipython",
    "version": 3
   },
   "file_extension": ".py",
   "mimetype": "text/x-python",
   "name": "python",
   "nbconvert_exporter": "python",
   "pygments_lexer": "ipython3",
   "version": "3.8.13"
  }
 },
 "nbformat": 4,
 "nbformat_minor": 5
}
